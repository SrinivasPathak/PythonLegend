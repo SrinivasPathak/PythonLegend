{
 "cells": [
  {
   "cell_type": "markdown",
   "metadata": {},
   "source": [
    "## String Formatting\n",
    "\n",
    "###### String formatting lets you inject items into string rather than trying to chain items together using commas or concatenation.\n",
    "###### As a quick comparison, consider:\n",
    "\n",
    "###### player = 'Rohit'\n",
    "###### points = 69\n",
    "\n",
    "###### 'last night, '+player+' scored '+str(points)+' points.'   #concatenation method\n",
    "###### f'last night, {player} scored {points} points.'           #String Formatting\n",
    "\n",
    "\n",
    "##### There are three ways to perform string formatting.\n",
    "\n",
    "###### a) The oldest method involves placeholders using the modulo % character.\n",
    "###### b) An improved technique uses the .format() string method.\n",
    "###### c) The newest method, introduced with Python 3.6, uses formatted string literals, called f-strings.\n",
    "###### Since you will likely encounter all three versions in someone else's code, we describe each of them here.\n"
   ]
  },
  {
   "cell_type": "markdown",
   "metadata": {},
   "source": [
    "#### Formatting with Placeholders"
   ]
  },
  {
   "cell_type": "markdown",
   "metadata": {},
   "source": [
    "###### You can use %s to inject strings into your print statements. The modulo % is referred to as a \"string formatting operator\"."
   ]
  },
  {
   "cell_type": "code",
   "execution_count": 4,
   "metadata": {},
   "outputs": [
    {
     "name": "stdout",
     "output_type": "stream",
     "text": [
      "I'm going to inject something here.\n"
     ]
    }
   ],
   "source": [
    "print(\"I'm going to inject %s here.\" %'something')"
   ]
  },
  {
   "cell_type": "code",
   "execution_count": 6,
   "metadata": {},
   "outputs": [
    {
     "name": "stdout",
     "output_type": "stream",
     "text": [
      "I'm going to add some here and more here as well.\n"
     ]
    }
   ],
   "source": [
    "print(\"I'm going to add %s here and %s as well.\" %('some','more here'))"
   ]
  }
 ],
 "metadata": {
  "kernelspec": {
   "display_name": "Python 3",
   "language": "python",
   "name": "python3"
  },
  "language_info": {
   "codemirror_mode": {
    "name": "ipython",
    "version": 3
   },
   "file_extension": ".py",
   "mimetype": "text/x-python",
   "name": "python",
   "nbconvert_exporter": "python",
   "pygments_lexer": "ipython3",
   "version": "3.11.9"
  }
 },
 "nbformat": 4,
 "nbformat_minor": 2
}
