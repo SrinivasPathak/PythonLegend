{
 "cells": [
  {
   "cell_type": "markdown",
   "metadata": {},
   "source": [
    "# Variable Assignment\n",
    "## Rules for Variable Names\n",
    "#### >names can not start with a number\n",
    "#### >names can not contain any of these symbols: :'\",<>/?|\\ !@#%^&*~-+\n",
    "#### "
   ]
  },
  {
   "cell_type": "code",
   "execution_count": null,
   "metadata": {},
   "outputs": [],
   "source": []
  }
 ],
 "metadata": {
  "language_info": {
   "name": "python"
  }
 },
 "nbformat": 4,
 "nbformat_minor": 2
}
