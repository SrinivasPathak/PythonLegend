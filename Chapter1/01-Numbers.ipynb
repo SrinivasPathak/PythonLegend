{
 "cells": [
  {
   "cell_type": "code",
   "execution_count": null,
   "metadata": {},
   "outputs": [
    {
     "data": {
      "text/plain": [
       "3"
      ]
     },
     "execution_count": 12,
     "metadata": {},
     "output_type": "execute_result"
    }
   ],
   "source": [
    "# **********************************************************************************************************\n",
    "#  Introduction to Numbers in Python\n",
    "# ************************************************************************************************************\n",
    "\n",
    "# We'll learn about the following topics:\n",
    "# 1.) Types of Numbers in Python\n",
    "# 2.) Basic Arithmetic\n",
    "# 3.) Differences between classic division and floor division\n",
    "# 4.) Object Assignment in Python\n",
    "\n",
    "# Basic Arithematic\n",
    "\n",
    "# Addition\n",
    "2+1\n",
    "\n",
    "#subtraction\n",
    "2-1\n",
    "\n",
    "#Division\n",
    "3/2\n",
    "\n",
    "# Multiplication\n",
    "2*2\n",
    "\n",
    "# Floor Division\n",
    "7//4\n",
    "\n",
    "#Whoa! What just happened? Last time I checked, 7 divided by 4 equals 1.75 not 1!\n",
    "\n",
    "# The reason we get this result is because we are using \"floor\" division. The // operator (two forward slashes) truncates the decimal without rounding, and returns an integer result.\n",
    "\n",
    "# So what if we just want the remainder after division?\n",
    "\n",
    "# Modulo\n",
    "7%4\n",
    "\n",
    "# 4 goes into 7 once, with a remainder of 3. The % operator returns the remainder after division.\n",
    "\n",
    "\n"
   ]
  },
  {
   "cell_type": "code",
   "execution_count": 13,
   "metadata": {},
   "outputs": [
    {
     "data": {
      "text/plain": [
       "8"
      ]
     },
     "execution_count": 13,
     "metadata": {},
     "output_type": "execute_result"
    }
   ],
   "source": [
    "# Powers\n",
    "2**3\n"
   ]
  },
  {
   "cell_type": "code",
   "execution_count": 14,
   "metadata": {},
   "outputs": [
    {
     "data": {
      "text/plain": [
       "2.0"
      ]
     },
     "execution_count": 14,
     "metadata": {},
     "output_type": "execute_result"
    }
   ],
   "source": [
    "# can also do roots this way\n",
    "4**0.5"
   ]
  },
  {
   "cell_type": "code",
   "execution_count": 15,
   "metadata": {},
   "outputs": [
    {
     "data": {
      "text/plain": [
       "105"
      ]
     },
     "execution_count": 15,
     "metadata": {},
     "output_type": "execute_result"
    }
   ],
   "source": [
    "# order of the operations followed in Python\n",
    "2+10*10+3\n"
   ]
  },
  {
   "cell_type": "code",
   "execution_count": null,
   "metadata": {},
   "outputs": [
    {
     "data": {
      "text/plain": [
       "156"
      ]
     },
     "execution_count": 16,
     "metadata": {},
     "output_type": "execute_result"
    }
   ],
   "source": [
    "# can use paranthesis to specify order\n",
    "(2+10) * (10+3)"
   ]
  },
  {
   "cell_type": "code",
   "execution_count": null,
   "metadata": {},
   "outputs": [],
   "source": []
  }
 ],
 "metadata": {
  "kernelspec": {
   "display_name": "Python 3",
   "language": "python",
   "name": "python3"
  },
  "language_info": {
   "codemirror_mode": {
    "name": "ipython",
    "version": 3
   },
   "file_extension": ".py",
   "mimetype": "text/x-python",
   "name": "python",
   "nbconvert_exporter": "python",
   "pygments_lexer": "ipython3",
   "version": "3.11.9"
  }
 },
 "nbformat": 4,
 "nbformat_minor": 2
}
